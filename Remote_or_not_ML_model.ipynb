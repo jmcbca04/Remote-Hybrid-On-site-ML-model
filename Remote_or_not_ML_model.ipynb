{
  "nbformat": 4,
  "nbformat_minor": 0,
  "metadata": {
    "colab": {
      "provenance": [],
      "gpuType": "T4"
    },
    "kernelspec": {
      "name": "python3",
      "display_name": "Python 3"
    },
    "language_info": {
      "name": "python"
    },
    "accelerator": "GPU"
  },
  "cells": [
    {
      "cell_type": "markdown",
      "source": [
        "## The goal of this Notebook is to analyze job posting data from LinkedIn, and determine whether or not a job posting is:\n",
        "\n",
        "- remote\n",
        "- hybrid\n",
        "- on-site"
      ],
      "metadata": {
        "id": "Ii1amVxdQMYt"
      }
    },
    {
      "cell_type": "code",
      "source": [
        "import tensorflow as tf"
      ],
      "metadata": {
        "id": "sh4A6jBvQurM"
      },
      "execution_count": 4,
      "outputs": []
    },
    {
      "cell_type": "markdown",
      "source": [
        "### Jobs Data"
      ],
      "metadata": {
        "id": "Po2gtL1SQxtH"
      }
    },
    {
      "cell_type": "code",
      "source": [
        "import pandas as pd\n",
        "\n",
        "try:\n",
        "    df = pd.read_csv('linkedin_kaggle_job_postings.csv', on_bad_lines='skip')\n",
        "except Exception as e:\n",
        "    print(e)"
      ],
      "metadata": {
        "id": "bQusFWpASLNi"
      },
      "execution_count": 5,
      "outputs": []
    },
    {
      "cell_type": "markdown",
      "source": [
        "### Cleaning the text"
      ],
      "metadata": {
        "id": "9XgZy2XuU4hv"
      }
    },
    {
      "cell_type": "code",
      "source": [
        "import pandas as pd\n",
        "import tensorflow as tf\n",
        "import re\n",
        "\n",
        "try:\n",
        "    df = pd.read_csv('linkedin_kaggle_job_postings.csv', on_bad_lines='skip')\n",
        "except Exception as e:\n",
        "    print(e)\n",
        "\n",
        "def clean_text(text):\n",
        "    # Ensure the input is a string\n",
        "    text = str(text)\n",
        "    # Remove HTML tags\n",
        "    text = re.sub(r'<.*?>', '', text)\n",
        "    # Remove special characters and digits\n",
        "    text = re.sub(r'[^a-zA-Z\\s]', '', text, re.I|re.A)\n",
        "    # Convert to lower case\n",
        "    text = text.lower()\n",
        "    return text\n",
        "\n",
        "# Apply the updated cleaning function to your description column\n",
        "df['description_cleaned'] = df['description'].apply(clean_text)"
      ],
      "metadata": {
        "id": "K12xAwiPUz_c"
      },
      "execution_count": 6,
      "outputs": []
    },
    {
      "cell_type": "markdown",
      "source": [
        "### I need to vectorize the data to turn it into something a 🤖 can read, so that's what I'll be doing here"
      ],
      "metadata": {
        "id": "9_znwMQTSqPn"
      }
    },
    {
      "cell_type": "code",
      "source": [
        "from sklearn.feature_extraction.text import TfidfVectorizer\n",
        "\n",
        "# Initialize the TF-IDF vectorizer\n",
        "tfidf_vectorizer = TfidfVectorizer(max_features=5000, stop_words='english')\n",
        "\n",
        "# Fit and transform the cleaned job descriptions\n",
        "X = tfidf_vectorizer.fit_transform(df['description_cleaned']).toarray()\n",
        "\n",
        "# Check the shape of the resulting matrix\n",
        "print(X.shape)"
      ],
      "metadata": {
        "colab": {
          "base_uri": "https://localhost:8080/"
        },
        "id": "LvzHvC2iUbdP",
        "outputId": "273e3ff2-466d-42b7-9a10-6702c8cd541c"
      },
      "execution_count": 7,
      "outputs": [
        {
          "output_type": "stream",
          "name": "stdout",
          "text": [
            "(33246, 5000)\n"
          ]
        }
      ]
    },
    {
      "cell_type": "markdown",
      "source": [
        "### Splitting the data into training and test sets"
      ],
      "metadata": {
        "id": "ivVDeVORUhQ3"
      }
    },
    {
      "cell_type": "code",
      "source": [
        "from sklearn.preprocessing import LabelEncoder\n",
        "\n",
        "# Instantiate the encoder\n",
        "label_encoder = LabelEncoder()\n",
        "\n",
        "# Assuming 'formatted_work_type' is the column you're using to indicate job type\n",
        "# Ensure this column exists in your DataFrame and replace 'formatted_work_type' with the correct column name if different\n",
        "if 'formatted_work_type' in df.columns:\n",
        "    df['work_type_encoded'] = label_encoder.fit_transform(df['formatted_work_type'])\n",
        "else:\n",
        "    print(\"Column 'formatted_work_type' does not exist. Check the correct column name.\")"
      ],
      "metadata": {
        "id": "KX9ygO29V6ei"
      },
      "execution_count": 8,
      "outputs": []
    },
    {
      "cell_type": "code",
      "source": [
        "from sklearn.model_selection import train_test_split\n",
        "\n",
        "# Now that 'work_type_encoded' exists, you can use it as your target variable\n",
        "X = df['description_cleaned']  # or the vectorized form, depending on your previous steps\n",
        "y = df['work_type_encoded']\n",
        "\n",
        "X_train, X_test, y_train, y_test = train_test_split(X, y, test_size=0.2, random_state=42)\n",
        "\n",
        "print(f\"Training set size: {X_train.shape[0]} samples\")\n",
        "print(f\"Test set size: {X_test.shape[0]} samples\")\n"
      ],
      "metadata": {
        "colab": {
          "base_uri": "https://localhost:8080/"
        },
        "id": "5s1cb7pbV7qg",
        "outputId": "c97fd99f-b948-4e30-d3ad-2f8751690663"
      },
      "execution_count": 9,
      "outputs": [
        {
          "output_type": "stream",
          "name": "stdout",
          "text": [
            "Training set size: 26596 samples\n",
            "Test set size: 6650 samples\n"
          ]
        }
      ]
    },
    {
      "cell_type": "markdown",
      "source": [
        "## Training the model\n",
        "\n",
        "Okay, now let's train the model"
      ],
      "metadata": {
        "id": "c0l6DeOPW2mK"
      }
    },
    {
      "cell_type": "code",
      "source": [
        "# Assuming 'description_cleaned' is your text column\n",
        "X = tfidf_vectorizer.fit_transform(df['description_cleaned']).toarray()\n",
        "\n",
        "# Now split the data\n",
        "X_train, X_test, y_train, y_test = train_test_split(X, df['work_type_encoded'], test_size=0.2, random_state=42)"
      ],
      "metadata": {
        "id": "-a7SHZDLW6Jt"
      },
      "execution_count": 10,
      "outputs": []
    },
    {
      "cell_type": "code",
      "source": [
        "X_train.dtype, X_test.dtype"
      ],
      "metadata": {
        "colab": {
          "base_uri": "https://localhost:8080/"
        },
        "id": "NLciSv6BXA-C",
        "outputId": "1dafd64e-84ea-4f5c-dac1-6e1606d497dd"
      },
      "execution_count": 11,
      "outputs": [
        {
          "output_type": "execute_result",
          "data": {
            "text/plain": [
              "(dtype('float64'), dtype('float64'))"
            ]
          },
          "metadata": {},
          "execution_count": 11
        }
      ]
    },
    {
      "cell_type": "code",
      "source": [
        "model_1 = tf.keras.Sequential([\n",
        "    tf.keras.layers.Dense(128, activation='relu'),\n",
        "    tf.keras.layers.Dense(64, activation='relu'),\n",
        "    tf.keras.layers.Dense(10, activation='softmax')\n",
        "])"
      ],
      "metadata": {
        "id": "XIX-5PmtVdlo"
      },
      "execution_count": 12,
      "outputs": []
    },
    {
      "cell_type": "code",
      "source": [
        "model_1.compile(loss='sparse_categorical_crossentropy', optimizer='adam', metrics=['accuracy'])"
      ],
      "metadata": {
        "id": "OrLEOsKqVdKd"
      },
      "execution_count": 13,
      "outputs": []
    },
    {
      "cell_type": "code",
      "source": [
        "# Fit the model\n",
        "model_1.fit(X_train, y_train)"
      ],
      "metadata": {
        "colab": {
          "base_uri": "https://localhost:8080/"
        },
        "id": "uD4hXHYKXod3",
        "outputId": "db353bcd-789e-4420-92f2-eae314c448de"
      },
      "execution_count": 14,
      "outputs": [
        {
          "output_type": "stream",
          "name": "stdout",
          "text": [
            "832/832 [==============================] - 5s 3ms/step - loss: 0.5149 - accuracy: 0.8468\n"
          ]
        },
        {
          "output_type": "execute_result",
          "data": {
            "text/plain": [
              "<keras.src.callbacks.History at 0x7c835b64bf10>"
            ]
          },
          "metadata": {},
          "execution_count": 14
        }
      ]
    },
    {
      "cell_type": "code",
      "source": [
        "# Evalaute the model\n",
        "model_1.evaluate(X_test, y_test)"
      ],
      "metadata": {
        "colab": {
          "base_uri": "https://localhost:8080/"
        },
        "id": "93mTKVimWcea",
        "outputId": "bcf5cb11-c99f-46e1-e396-eeb8563568b6"
      },
      "execution_count": 15,
      "outputs": [
        {
          "output_type": "stream",
          "name": "stdout",
          "text": [
            "208/208 [==============================] - 1s 2ms/step - loss: 0.3835 - accuracy: 0.8794\n"
          ]
        },
        {
          "output_type": "execute_result",
          "data": {
            "text/plain": [
              "[0.3834722638130188, 0.8793985247612]"
            ]
          },
          "metadata": {},
          "execution_count": 15
        }
      ]
    },
    {
      "cell_type": "markdown",
      "source": [
        "### Okay let's visualize this first model\n",
        "Here's the model architecture"
      ],
      "metadata": {
        "id": "TiMKN-nwEyoF"
      }
    },
    {
      "cell_type": "code",
      "source": [
        "tf.keras.utils.plot_model(model_1, show_shapes=True)"
      ],
      "metadata": {
        "colab": {
          "base_uri": "https://localhost:8080/",
          "height": 422
        },
        "id": "xdolg5o5E2Tm",
        "outputId": "ac762074-068a-4c08-e25f-5e8ba4718515"
      },
      "execution_count": 16,
      "outputs": [
        {
          "output_type": "execute_result",
          "data": {
            "image/png": "[encoded data removed]",
            "text/plain": [
              "<IPython.core.display.Image object>"
            ]
          },
          "metadata": {},
          "execution_count": 16
        }
      ]
    },
    {
      "cell_type": "code",
      "source": [
        "history = model_1.fit(X_train, y_train,\n",
        "                      validation_data=(X_test, y_test),\n",
        "                      epochs=10,\n",
        "                      batch_size=32)"
      ],
      "metadata": {
        "colab": {
          "base_uri": "https://localhost:8080/"
        },
        "id": "qFgdQyGoFwsH",
        "outputId": "978ad7e8-12b2-4d98-92ae-5a88b608d25c"
      },
      "execution_count": 17,
      "outputs": [
        {
          "output_type": "stream",
          "name": "stdout",
          "text": [
            "Epoch 1/10\n",
            "832/832 [==============================] - 4s 5ms/step - loss: 0.3012 - accuracy: 0.8982 - val_loss: 0.3519 - val_accuracy: 0.8832\n",
            "Epoch 2/10\n",
            "832/832 [==============================] - 3s 4ms/step - loss: 0.2050 - accuracy: 0.9311 - val_loss: 0.3729 - val_accuracy: 0.8830\n",
            "Epoch 3/10\n",
            "832/832 [==============================] - 3s 4ms/step - loss: 0.1254 - accuracy: 0.9583 - val_loss: 0.4460 - val_accuracy: 0.8823\n",
            "Epoch 4/10\n",
            "832/832 [==============================] - 3s 3ms/step - loss: 0.0736 - accuracy: 0.9764 - val_loss: 0.5109 - val_accuracy: 0.8847\n",
            "Epoch 5/10\n",
            "832/832 [==============================] - 4s 4ms/step - loss: 0.0501 - accuracy: 0.9846 - val_loss: 0.5619 - val_accuracy: 0.8788\n",
            "Epoch 6/10\n",
            "832/832 [==============================] - 3s 4ms/step - loss: 0.0409 - accuracy: 0.9866 - val_loss: 0.5842 - val_accuracy: 0.8786\n",
            "Epoch 7/10\n",
            "832/832 [==============================] - 3s 3ms/step - loss: 0.0358 - accuracy: 0.9880 - val_loss: 0.6239 - val_accuracy: 0.8749\n",
            "Epoch 8/10\n",
            "832/832 [==============================] - 3s 3ms/step - loss: 0.0319 - accuracy: 0.9898 - val_loss: 0.6760 - val_accuracy: 0.8759\n",
            "Epoch 9/10\n",
            "832/832 [==============================] - 3s 4ms/step - loss: 0.0281 - accuracy: 0.9900 - val_loss: 0.6567 - val_accuracy: 0.8802\n",
            "Epoch 10/10\n",
            "832/832 [==============================] - 4s 4ms/step - loss: 0.0245 - accuracy: 0.9908 - val_loss: 0.7165 - val_accuracy: 0.8779\n"
          ]
        }
      ]
    },
    {
      "cell_type": "code",
      "source": [
        "import matplotlib.pyplot as plt\n",
        "\n",
        "# Plot training & validation accuracy values\n",
        "plt.plot(history.history['accuracy'])\n",
        "plt.plot(history.history['val_accuracy'])\n",
        "plt.title('Model accuracy')\n",
        "plt.ylabel('Accuracy')\n",
        "plt.xlabel('Epoch')\n",
        "plt.legend(['Train', 'Test'], loc='upper left')\n",
        "plt.show()\n",
        "\n",
        "# Plot training & validation loss values\n",
        "plt.plot(history.history['loss'])\n",
        "plt.plot(history.history['val_loss'])\n",
        "plt.title('Model loss')\n",
        "plt.ylabel('Loss')\n",
        "plt.xlabel('Epoch')\n",
        "plt.legend(['Train', 'Test'], loc='upper left')\n",
        "plt.show()\n"
      ],
      "metadata": {
        "colab": {
          "base_uri": "https://localhost:8080/",
          "height": 927
        },
        "id": "OYTUh0N6Fh7r",
        "outputId": "6d8b0592-474d-4464-cfd8-a5add6d23119"
      },
      "execution_count": 18,
      "outputs": [
        {
          "output_type": "display_data",
          "data": {
            "text/plain": [
              "<Figure size 640x480 with 1 Axes>"
            ],
            "image/png": "[encoded data removed]"
          },
          "metadata": {}
        },
        {
          "output_type": "display_data",
          "data": {
            "text/plain": [
              "<Figure size 640x480 with 1 Axes>"
            ],
            "image/png": "[encoded data removed]"
          },
          "metadata": {}
        }
      ]
    },
    {
      "cell_type": "markdown",
      "source": [
        "## Looks like my first model is overfitting.\n",
        "\n",
        "So let's build a second model that will hopefully work better!\n",
        "\n",
        "For this one we're going to build a sequential neural network."
      ],
      "metadata": {
        "id": "saGAFgDcJrly"
      }
    },
    {
      "cell_type": "code",
      "source": [
        "from tensorflow.keras.models import Sequential\n",
        "from tensorflow.keras.layers import Dense, Dropout\n",
        "\n",
        "# Define the model\n",
        "model_2 = Sequential([\n",
        "    Dense(128, activation='relu'),\n",
        "    Dense(64, activation='relu'),\n",
        "    Dropout(0.5),\n",
        "    Dense(10, activation='softmax')\n",
        "])\n",
        "\n",
        "# Compile the model\n",
        "model_2.compile(\n",
        "    optimizer='adam',\n",
        "    loss='sparse_categorical_crossentropy',\n",
        "    metrics=['accuracy']\n",
        ")"
      ],
      "metadata": {
        "id": "xrm6ZexeJ1-d"
      },
      "execution_count": 19,
      "outputs": []
    },
    {
      "cell_type": "code",
      "source": [
        "# Train the model\n",
        "\n",
        "from tensorflow.keras.callbacks import EarlyStopping\n",
        "\n",
        "# Callback for early stopping\n",
        "early_stopping = EarlyStopping(\n",
        "    monitor='val_loss',\n",
        "    patience=3,\n",
        "    restore_best_weights=True\n",
        ")\n",
        "\n",
        "history = model_2.fit(\n",
        "    X_train, y_train,\n",
        "    epochs=50,\n",
        "    batch_size=32,\n",
        "    validation_split=0.2,\n",
        "    callbacks=[early_stopping]\n",
        ")"
      ],
      "metadata": {
        "colab": {
          "base_uri": "https://localhost:8080/"
        },
        "id": "nkr3UmhTLM-d",
        "outputId": "f5832775-b4b5-4317-d29a-c9d20c1fd125"
      },
      "execution_count": 20,
      "outputs": [
        {
          "output_type": "stream",
          "name": "stdout",
          "text": [
            "Epoch 1/50\n",
            "665/665 [==============================] - 5s 4ms/step - loss: 0.5856 - accuracy: 0.8359 - val_loss: 0.4021 - val_accuracy: 0.8671\n",
            "Epoch 2/50\n",
            "665/665 [==============================] - 2s 4ms/step - loss: 0.3591 - accuracy: 0.8841 - val_loss: 0.3922 - val_accuracy: 0.8667\n",
            "Epoch 3/50\n",
            "665/665 [==============================] - 2s 4ms/step - loss: 0.2684 - accuracy: 0.9116 - val_loss: 0.3959 - val_accuracy: 0.8748\n",
            "Epoch 4/50\n",
            "665/665 [==============================] - 3s 5ms/step - loss: 0.1997 - accuracy: 0.9334 - val_loss: 0.4843 - val_accuracy: 0.8720\n",
            "Epoch 5/50\n",
            "665/665 [==============================] - 3s 5ms/step - loss: 0.1405 - accuracy: 0.9518 - val_loss: 0.5163 - val_accuracy: 0.8786\n"
          ]
        }
      ]
    },
    {
      "cell_type": "code",
      "source": [
        "# Evaluate the model\n",
        "test_loss, test_acc = model_2.evaluate(X_test, y_test)\n",
        "print(f'Test accuracy: {test_acc:.4f}')"
      ],
      "metadata": {
        "colab": {
          "base_uri": "https://localhost:8080/"
        },
        "id": "zU0z1iIfMa5K",
        "outputId": "6014fca5-5f06-4bb7-f170-dd82c10ce55f"
      },
      "execution_count": 21,
      "outputs": [
        {
          "output_type": "stream",
          "name": "stdout",
          "text": [
            "208/208 [==============================] - 1s 2ms/step - loss: 0.3831 - accuracy: 0.8722\n",
            "Test accuracy: 0.8722\n"
          ]
        }
      ]
    },
    {
      "cell_type": "markdown",
      "source": [
        "### Let's visualize this second model"
      ],
      "metadata": {
        "id": "ZYxTXuabNCuv"
      }
    },
    {
      "cell_type": "code",
      "source": [
        "# Summarize history for accuracy\n",
        "plt.plot(history.history['accuracy'])\n",
        "plt.plot(history.history['val_accuracy'])\n",
        "plt.title('Model Accuracy')\n",
        "plt.ylabel('Accuracy')\n",
        "plt.xlabel('Epoch')\n",
        "plt.legend(['Train', 'Validation'], loc='upper left')\n",
        "plt.show()\n",
        "\n",
        "# Summarize history for loss\n",
        "plt.plot(history.history['loss'])\n",
        "plt.plot(history.history['val_loss'])\n",
        "plt.title('Model Loss')\n",
        "plt.ylabel('Loss')\n",
        "plt.xlabel('Epoch')\n",
        "plt.legend(['Train', 'Validation'], loc='upper left')\n",
        "plt.show()\n"
      ],
      "metadata": {
        "colab": {
          "base_uri": "https://localhost:8080/",
          "height": 927
        },
        "id": "tD6k_ZSoNIYq",
        "outputId": "3cbd73ab-a65f-4c8d-cb2e-687cc9eaaa66"
      },
      "execution_count": 22,
      "outputs": [
        {
          "output_type": "display_data",
          "data": {
            "text/plain": [
              "<Figure size 640x480 with 1 Axes>"
            ],
            "image/png": "[encoded data removed]"
          },
          "metadata": {}
        },
        {
          "output_type": "display_data",
          "data": {
            "text/plain": [
              "<Figure size 640x480 with 1 Axes>"
            ],
            "image/png": "[encoded data removed]"
          },
          "metadata": {}
        }
      ]
    },
    {
      "cell_type": "markdown",
      "source": [
        "## Looking at real data\n",
        "\n",
        "I want to look at some actual job postings, and see whether or not my model predicts whether it is remote / hybrid / on-site correctly.\n",
        "\n",
        "So let's do that next."
      ],
      "metadata": {
        "id": "WUIco7abOOSD"
      }
    },
    {
      "cell_type": "code",
      "source": [
        "def preprocess_text(text, vectorizer):\n",
        "    # Clean the text\n",
        "    cleaned_text = clean_text(text)  # Replace with your actual cleaning function\n",
        "\n",
        "    # Convert the text to a numerical vector\n",
        "    vectorized_text = vectorizer.transform([cleaned_text])\n",
        "\n",
        "    return vectorized_text.toarray()  # Make sure it's in the same format as your training data\n"
      ],
      "metadata": {
        "id": "5Kh4j62wOecs"
      },
      "execution_count": 23,
      "outputs": []
    },
    {
      "cell_type": "markdown",
      "source": [
        "### I need a random job posting from my data"
      ],
      "metadata": {
        "id": "PmrSF_aiOm-D"
      }
    },
    {
      "cell_type": "code",
      "source": [
        "import pandas as pd\n",
        "\n",
        "# Load the dataset\n",
        "df = pd.read_csv('linkedin_kaggle_job_postings.csv')\n",
        "\n",
        "# Select a random job posting from the DataFrame\n",
        "random_job_posting = df.sample(1).iloc[0]\n",
        "\n",
        "# Display the job posting\n",
        "random_job_posting_description = random_job_posting['description']\n",
        "print(random_job_posting_description)\n"
      ],
      "metadata": {
        "colab": {
          "base_uri": "https://localhost:8080/"
        },
        "id": "6zJS6ZFCOrtd",
        "outputId": "14220056-ef7f-47ae-a086-98000064cf3e"
      },
      "execution_count": 24,
      "outputs": [
        {
          "output_type": "stream",
          "name": "stdout",
          "text": [
            "We are looking for a Warehouse Maintenance Technician to join our team. The ideal candidate will be organized, detail-oriented, and have excellent problem-solving skills.\n",
            "The Warehouse Maintenance Technician will be responsible for ensuring that the warehouse facility is maintained in a safe and orderly condition. This includes performing minor repairs, preventative maintenance, and general upkeep of the warehouse. Additionally, the Warehouse Maintenance Technician will be responsible for inspecting and testing equipment, troubleshooting issues, and recommending solutions.\n",
            "Responsibilities:\n",
            "Perform minor repairs, preventative maintenance, and general upkeep of warehouse.Inspect and test equipment regularly.Troubleshoot issues and recommend solutions.Maintain accurate records of all repairs and preventative maintenance.Ensure compliance with all safety regulations and policies.Assist with other warehouse duties when needed.\n",
            "Qualifications:\n",
            "High school diploma or GED required.1+ years of experience in warehouse maintenance or related field.Knowledge of tools, materials, and safety regulations.Ability to work independently and take initiative.Excellent problem-solving and communication skills.Ability to lift up to 50 lbs.\n"
          ]
        }
      ]
    },
    {
      "cell_type": "code",
      "source": [
        "# Need to vectorize the text\n",
        "cleaned_job_posting = clean_text(random_job_posting_description)\n",
        "\n",
        "# Assuming `tfidf_vectorizer` is your TfidfVectorizer instance\n",
        "vectorized_job_posting = tfidf_vectorizer.transform([cleaned_job_posting])"
      ],
      "metadata": {
        "id": "0LJrJl8RQVBr"
      },
      "execution_count": 25,
      "outputs": []
    },
    {
      "cell_type": "code",
      "source": [
        "# Convert the vectorized sparse matrix to a dense array\n",
        "dense_vectorized_job_posting = vectorized_job_posting.toarray()\n",
        "\n",
        "# Now let's predict the location of the job\n",
        "prediction = model_2.predict(dense_vectorized_job_posting)"
      ],
      "metadata": {
        "colab": {
          "base_uri": "https://localhost:8080/"
        },
        "id": "XJ9UjYaiR1PD",
        "outputId": "fcc163f6-68b8-4ff2-d445-fdcabf94429a"
      },
      "execution_count": 26,
      "outputs": [
        {
          "output_type": "stream",
          "name": "stdout",
          "text": [
            "1/1 [==============================] - 0s 105ms/step\n"
          ]
        }
      ]
    },
    {
      "cell_type": "code",
      "source": [
        "# Now let's predict the location of the job\n",
        "import numpy as np\n",
        "prediction = model_2.predict(dense_vectorized_job_posting)\n",
        "\n",
        "# If your model outputs one-hot encoded predictions, convert to label\n",
        "predicted_label = np.argmax(prediction, axis=1)\n",
        "\n",
        "# Decode the predicted label (if you used label encoding)\n",
        "# If you have the label encoder saved as 'label_encoder', you can reverse the encoding to get the original label\n",
        "predicted_job_type = label_encoder.inverse_transform(predicted_label)[0]\n",
        "\n",
        "print(f\"The model predicts this job is: {predicted_job_type}\")\n"
      ],
      "metadata": {
        "colab": {
          "base_uri": "https://localhost:8080/"
        },
        "id": "QCsAs0aBPnug",
        "outputId": "73a650e0-596e-4467-f9ba-a454f55d8c16"
      },
      "execution_count": 27,
      "outputs": [
        {
          "output_type": "stream",
          "name": "stdout",
          "text": [
            "1/1 [==============================] - 0s 19ms/step\n",
            "The model predicts this job is: Full-time\n"
          ]
        }
      ]
    },
    {
      "cell_type": "markdown",
      "source": [
        "## Alright, seems like I may have been using the wrong classifier to predict whether a job is remote or not. So I need to take that into consideration for my next model."
      ],
      "metadata": {
        "id": "ROmpDkXgsG8c"
      }
    },
    {
      "cell_type": "markdown",
      "source": [
        "### For model_3, I'm going to use the following columns from the dataset:\n",
        "\n",
        "- title\n",
        "- description\n",
        "- location\n",
        "- remote_allowed\n",
        "\n",
        "Then I need to:\n",
        "\n",
        "- Preprocess each feature\n",
        "- Combine those features into a single feature set\n",
        "- Train the model on the combined feature set\n",
        "- Evaluate the model"
      ],
      "metadata": {
        "id": "NtuzzCCKsZhc"
      }
    },
    {
      "cell_type": "markdown",
      "source": [
        "### Preprocessing the data"
      ],
      "metadata": {
        "id": "lUkkdoYZscL1"
      }
    },
    {
      "cell_type": "code",
      "source": [
        "from sklearn.feature_extraction.text import TfidfVectorizer\n",
        "\n",
        "# Clean the text data\n",
        "df['title_cleaned'] = df['title'].apply(clean_text)\n",
        "df['description_cleaned'] = df['description'].apply(clean_text)\n",
        "\n",
        "# Initialize TF-IDF Vectorizers\n",
        "title_vectorizer = TfidfVectorizer(max_features=1000)\n",
        "description_vectorizer = TfidfVectorizer(max_features=1000)\n",
        "\n",
        "# Fit the vectorizers on the respective text data\n",
        "title_tfidf = title_vectorizer.fit_transform(df['title_cleaned'])\n",
        "description_tfidf = description_vectorizer.fit_transform(df['description_cleaned'])"
      ],
      "metadata": {
        "id": "uzRBiVSytWzR"
      },
      "execution_count": 28,
      "outputs": []
    },
    {
      "cell_type": "markdown",
      "source": [
        "### Handling the remote_allowed feature"
      ],
      "metadata": {
        "id": "Eb7f-iaquNL4"
      }
    },
    {
      "cell_type": "code",
      "source": [
        "df['remote_allowed'] = df['remote_allowed'].apply(lambda x: 1 if x == 'Yes' else 0)"
      ],
      "metadata": {
        "id": "dtZuv0jDupHI"
      },
      "execution_count": 29,
      "outputs": []
    },
    {
      "cell_type": "markdown",
      "source": [
        "### Handling the location feature"
      ],
      "metadata": {
        "id": "XL3XNJd8uxgn"
      }
    },
    {
      "cell_type": "code",
      "source": [
        "import pandas as pd\n",
        "\n",
        "# Load the dataset\n",
        "df = pd.read_csv('linkedin_kaggle_job_postings.csv')\n",
        "\n",
        "# Check if 'location' is in the DataFrame after loading\n",
        "if 'location' in df.columns:\n",
        "    print(\"The 'location' column is present.\")\n",
        "else:\n",
        "    print(\"The 'location' column is missing.\")\n"
      ],
      "metadata": {
        "colab": {
          "base_uri": "https://localhost:8080/"
        },
        "id": "k3hacuTWwBCj",
        "outputId": "438a2a30-1b63-44fe-f95f-67d46e2f1540"
      },
      "execution_count": 30,
      "outputs": [
        {
          "output_type": "stream",
          "name": "stdout",
          "text": [
            "The 'location' column is present.\n"
          ]
        }
      ]
    },
    {
      "cell_type": "code",
      "source": [
        "# One-hot encode the 'location' column\n",
        "if 'location' in df.columns:\n",
        "    location_encoded = pd.get_dummies(df['location'], prefix='loc')\n",
        "    print(location_encoded.head())\n"
      ],
      "metadata": {
        "colab": {
          "base_uri": "https://localhost:8080/"
        },
        "id": "D0-OtsA7w2cE",
        "outputId": "8425f9af-c010-42f3-ae6a-506f629c728d"
      },
      "execution_count": 31,
      "outputs": [
        {
          "output_type": "stream",
          "name": "stdout",
          "text": [
            "   loc_Abbeville, SC  loc_Aberdeen Proving Ground, MD  loc_Aberdeen, MD  \\\n",
            "0                  0                                0                 0   \n",
            "1                  0                                0                 0   \n",
            "2                  0                                0                 0   \n",
            "3                  0                                0                 0   \n",
            "4                  0                                0                 0   \n",
            "\n",
            "   loc_Aberdeen, SD  loc_Aberdeen, WA  loc_Abilene, TX  loc_Abingdon, VA  \\\n",
            "0                 0                 0                0                 0   \n",
            "1                 0                 0                0                 0   \n",
            "2                 0                 0                0                 0   \n",
            "3                 0                 0                0                 0   \n",
            "4                 0                 0                0                 0   \n",
            "\n",
            "   loc_Abo, MO  loc_Absecon, NJ  loc_Acampo, CA  ...  loc_Yuba City, CA  \\\n",
            "0            0                0               0  ...                  0   \n",
            "1            0                0               0  ...                  0   \n",
            "2            0                0               0  ...                  0   \n",
            "3            0                0               0  ...                  0   \n",
            "4            0                0               0  ...                  0   \n",
            "\n",
            "   loc_Yucaipa, CA  loc_Yukon, OK  loc_Yuma, AZ  loc_Zachary, LA  \\\n",
            "0                0              0             0                0   \n",
            "1                0              0             0                0   \n",
            "2                0              0             0                0   \n",
            "3                0              0             0                0   \n",
            "4                0              0             0                0   \n",
            "\n",
            "   loc_Zanesville, OH  loc_Zeeland, MI  loc_Zellwood, FL  loc_Zionsville, IN  \\\n",
            "0                   0                0                 0                   0   \n",
            "1                   0                0                 0                   0   \n",
            "2                   0                0                 0                   0   \n",
            "3                   0                0                 0                   0   \n",
            "4                   0                0                 0                   0   \n",
            "\n",
            "   loc_Zwolle, LA  \n",
            "0               0  \n",
            "1               0  \n",
            "2               0  \n",
            "3               0  \n",
            "4               0  \n",
            "\n",
            "[5 rows x 4621 columns]\n"
          ]
        }
      ]
    },
    {
      "cell_type": "markdown",
      "source": [
        "### Combining all features"
      ],
      "metadata": {
        "id": "A8YwR2Gsxq5w"
      }
    },
    {
      "cell_type": "code",
      "source": [
        "# Convert sparse vectors to dense\n",
        "title_dense = title_tfidf.toarray()\n",
        "description_dense = description_tfidf.toarray()\n",
        "\n",
        "# Concatenate all features into a single numpy array\n",
        "features = np.concatenate(\n",
        "    [title_dense, description_dense,\n",
        "    df['remote_allowed'].values.reshape(-1,1),\n",
        "    location_encoded.values],\n",
        "    axis=1\n",
        ")"
      ],
      "metadata": {
        "id": "zHewHVliyMwS"
      },
      "execution_count": 32,
      "outputs": []
    },
    {
      "cell_type": "markdown",
      "source": [
        "### Prepare the target variable"
      ],
      "metadata": {
        "id": "jJC7l21Xyui_"
      }
    },
    {
      "cell_type": "code",
      "source": [
        "y = df['remote_allowed'].values"
      ],
      "metadata": {
        "id": "DwVEAggAyyVa"
      },
      "execution_count": 33,
      "outputs": []
    },
    {
      "cell_type": "code",
      "source": [
        "# Split the data into training and test sets\n",
        "from sklearn.model_selection import train_test_split\n",
        "\n",
        "X_train, X_test, y_train, y_test = train_test_split(features, y, test_size=0.2, random_state=42)"
      ],
      "metadata": {
        "id": "iPora_EgzQBC"
      },
      "execution_count": 34,
      "outputs": []
    },
    {
      "cell_type": "markdown",
      "source": [
        "Hmm... well I wish that was true, but I don't think this is 100% accurate.\n",
        "\n",
        "Let's investigate"
      ],
      "metadata": {
        "id": "6UvE2qvZ2u6v"
      }
    },
    {
      "cell_type": "markdown",
      "source": [
        "### Having trouble with the remote_allowed column... let's build a different model that leaves that out.\n",
        "\n",
        "We'll be using the following columns instead:\n",
        "\n",
        "- title\n",
        "- description\n",
        "- location"
      ],
      "metadata": {
        "id": "RHDd0W-h6zQB"
      }
    },
    {
      "cell_type": "code",
      "source": [
        "# Replace NaN values in 'title' and 'description' with empty strings\n",
        "df['title'] = df['title'].fillna('')\n",
        "df['description'] = df['description'].fillna('')"
      ],
      "metadata": {
        "id": "7e1Hrl0v7YXi"
      },
      "execution_count": 35,
      "outputs": []
    },
    {
      "cell_type": "code",
      "source": [
        "from sklearn.feature_extraction.text import TfidfVectorizer\n",
        "\n",
        "# Vectorizing 'title'\n",
        "title_vectorizer = TfidfVectorizer(max_features=1000, stop_words='english')\n",
        "title_tfidf = title_vectorizer.fit_transform(df['title'])\n",
        "\n",
        "# Vectorizing 'description'\n",
        "description_vectorizer = TfidfVectorizer(max_features=1000, stop_words='english')\n",
        "description_tfidf = description_vectorizer.fit_transform(df['description'])\n"
      ],
      "metadata": {
        "id": "Q88dYnMw7DBG"
      },
      "execution_count": 36,
      "outputs": []
    },
    {
      "cell_type": "code",
      "source": [
        "from sklearn.preprocessing import OneHotEncoder\n",
        "\n",
        "# One-hot encoding 'location'\n",
        "location_encoder = OneHotEncoder(sparse=False)\n",
        "location_encoded = location_encoder.fit_transform(df[['location']])"
      ],
      "metadata": {
        "colab": {
          "base_uri": "https://localhost:8080/"
        },
        "id": "N5dITsUx7hU-",
        "outputId": "45645554-0bf0-4ca1-f5e8-7e6d41b8ef40"
      },
      "execution_count": 37,
      "outputs": [
        {
          "output_type": "stream",
          "name": "stderr",
          "text": [
            "/usr/local/lib/python3.10/dist-packages/sklearn/preprocessing/_encoders.py:868: FutureWarning: `sparse` was renamed to `sparse_output` in version 1.2 and will be removed in 1.4. `sparse_output` is ignored unless you leave `sparse` to its default value.\n",
            "  warnings.warn(\n"
          ]
        }
      ]
    },
    {
      "cell_type": "code",
      "source": [
        "import scipy.sparse as sp\n",
        "\n",
        "# Assuming 'title_tfidf', 'description_tfidf' are sparse and 'location_encoded' is dense\n",
        "features = sp.hstack((title_tfidf, description_tfidf, sp.csr_matrix(location_encoded)), format='csr')"
      ],
      "metadata": {
        "id": "9s2MhxJN7iyw"
      },
      "execution_count": 38,
      "outputs": []
    },
    {
      "cell_type": "code",
      "source": [
        "# Manually creating a binary target variable\n",
        "df['is_remote'] = df.apply(lambda row: 1 if 'remote' in row['description'].lower() else 0, axis=1)\n"
      ],
      "metadata": {
        "id": "QSHpnPk08K1C"
      },
      "execution_count": 39,
      "outputs": []
    },
    {
      "cell_type": "code",
      "source": [
        "from sklearn.model_selection import train_test_split\n",
        "\n",
        "X_train, X_test, y_train, y_test = train_test_split(features, df['is_remote'], test_size=0.2, random_state=42)"
      ],
      "metadata": {
        "id": "jgGR6MWv7mmw"
      },
      "execution_count": 40,
      "outputs": []
    },
    {
      "cell_type": "code",
      "source": [
        "from sklearn.ensemble import RandomForestClassifier\n",
        "\n",
        "model_4 = RandomForestClassifier(random_state=42)\n",
        "model_4.fit(X_train, y_train)"
      ],
      "metadata": {
        "colab": {
          "base_uri": "https://localhost:8080/",
          "height": 74
        },
        "id": "Re0VZRyr7pDn",
        "outputId": "c71bc691-0c44-46d0-e1d5-2827f917d6e0"
      },
      "execution_count": 41,
      "outputs": [
        {
          "output_type": "execute_result",
          "data": {
            "text/plain": [
              "RandomForestClassifier(random_state=42)"
            ],
            "text/html": [
              "<style>#sk-container-id-1 {color: black;background-color: white;}#sk-container-id-1 pre{padding: 0;}#sk-container-id-1 div.sk-toggleable {background-color: white;}#sk-container-id-1 label.sk-toggleable__label {cursor: pointer;display: block;width: 100%;margin-bottom: 0;padding: 0.3em;box-sizing: border-box;text-align: center;}#sk-container-id-1 label.sk-toggleable__label-arrow:before {content: \"▸\";float: left;margin-right: 0.25em;color: #696969;}#sk-container-id-1 label.sk-toggleable__label-arrow:hover:before {color: black;}#sk-container-id-1 div.sk-estimator:hover label.sk-toggleable__label-arrow:before {color: black;}#sk-container-id-1 div.sk-toggleable__content {max-height: 0;max-width: 0;overflow: hidden;text-align: left;background-color: #f0f8ff;}#sk-container-id-1 div.sk-toggleable__content pre {margin: 0.2em;color: black;border-radius: 0.25em;background-color: #f0f8ff;}#sk-container-id-1 input.sk-toggleable__control:checked~div.sk-toggleable__content {max-height: 200px;max-width: 100%;overflow: auto;}#sk-container-id-1 input.sk-toggleable__control:checked~label.sk-toggleable__label-arrow:before {content: \"▾\";}#sk-container-id-1 div.sk-estimator input.sk-toggleable__control:checked~label.sk-toggleable__label {background-color: #d4ebff;}#sk-container-id-1 div.sk-label input.sk-toggleable__control:checked~label.sk-toggleable__label {background-color: #d4ebff;}#sk-container-id-1 input.sk-hidden--visually {border: 0;clip: rect(1px 1px 1px 1px);clip: rect(1px, 1px, 1px, 1px);height: 1px;margin: -1px;overflow: hidden;padding: 0;position: absolute;width: 1px;}#sk-container-id-1 div.sk-estimator {font-family: monospace;background-color: #f0f8ff;border: 1px dotted black;border-radius: 0.25em;box-sizing: border-box;margin-bottom: 0.5em;}#sk-container-id-1 div.sk-estimator:hover {background-color: #d4ebff;}#sk-container-id-1 div.sk-parallel-item::after {content: \"\";width: 100%;border-bottom: 1px solid gray;flex-grow: 1;}#sk-container-id-1 div.sk-label:hover label.sk-toggleable__label {background-color: #d4ebff;}#sk-container-id-1 div.sk-serial::before {content: \"\";position: absolute;border-left: 1px solid gray;box-sizing: border-box;top: 0;bottom: 0;left: 50%;z-index: 0;}#sk-container-id-1 div.sk-serial {display: flex;flex-direction: column;align-items: center;background-color: white;padding-right: 0.2em;padding-left: 0.2em;position: relative;}#sk-container-id-1 div.sk-item {position: relative;z-index: 1;}#sk-container-id-1 div.sk-parallel {display: flex;align-items: stretch;justify-content: center;background-color: white;position: relative;}#sk-container-id-1 div.sk-item::before, #sk-container-id-1 div.sk-parallel-item::before {content: \"\";position: absolute;border-left: 1px solid gray;box-sizing: border-box;top: 0;bottom: 0;left: 50%;z-index: -1;}#sk-container-id-1 div.sk-parallel-item {display: flex;flex-direction: column;z-index: 1;position: relative;background-color: white;}#sk-container-id-1 div.sk-parallel-item:first-child::after {align-self: flex-end;width: 50%;}#sk-container-id-1 div.sk-parallel-item:last-child::after {align-self: flex-start;width: 50%;}#sk-container-id-1 div.sk-parallel-item:only-child::after {width: 0;}#sk-container-id-1 div.sk-dashed-wrapped {border: 1px dashed gray;margin: 0 0.4em 0.5em 0.4em;box-sizing: border-box;padding-bottom: 0.4em;background-color: white;}#sk-container-id-1 div.sk-label label {font-family: monospace;font-weight: bold;display: inline-block;line-height: 1.2em;}#sk-container-id-1 div.sk-label-container {text-align: center;}#sk-container-id-1 div.sk-container {/* jupyter's `normalize.less` sets `[hidden] { display: none; }` but bootstrap.min.css set `[hidden] { display: none !important; }` so we also need the `!important` here to be able to override the default hidden behavior on the sphinx rendered scikit-learn.org. See: https://github.com/scikit-learn/scikit-learn/issues/21755 */display: inline-block !important;position: relative;}#sk-container-id-1 div.sk-text-repr-fallback {display: none;}</style><div id=\"sk-container-id-1\" class=\"sk-top-container\"><div class=\"sk-text-repr-fallback\"><pre>RandomForestClassifier(random_state=42)</pre><b>In a Jupyter environment, please rerun this cell to show the HTML representation or trust the notebook. <br />On GitHub, the HTML representation is unable to render, please try loading this page with nbviewer.org.</b></div><div class=\"sk-container\" hidden><div class=\"sk-item\"><div class=\"sk-estimator sk-toggleable\"><input class=\"sk-toggleable__control sk-hidden--visually\" id=\"sk-estimator-id-1\" type=\"checkbox\" checked><label for=\"sk-estimator-id-1\" class=\"sk-toggleable__label sk-toggleable__label-arrow\">RandomForestClassifier</label><div class=\"sk-toggleable__content\"><pre>RandomForestClassifier(random_state=42)</pre></div></div></div></div></div>"
            ]
          },
          "metadata": {},
          "execution_count": 41
        }
      ]
    },
    {
      "cell_type": "code",
      "source": [
        "from sklearn.metrics import classification_report, accuracy_score\n",
        "\n",
        "y_pred = model_4.predict(X_test)\n",
        "print(accuracy_score(y_test, y_pred))\n",
        "print(classification_report(y_test, y_pred))"
      ],
      "metadata": {
        "id": "czELNGiE8aVp",
        "colab": {
          "base_uri": "https://localhost:8080/"
        },
        "outputId": "ded01134-7a6b-4c63-a536-895321f54527"
      },
      "execution_count": 42,
      "outputs": [
        {
          "output_type": "stream",
          "name": "stdout",
          "text": [
            "0.9187969924812031\n",
            "              precision    recall  f1-score   support\n",
            "\n",
            "           0       0.91      1.00      0.95      5632\n",
            "           1       1.00      0.47      0.64      1018\n",
            "\n",
            "    accuracy                           0.92      6650\n",
            "   macro avg       0.96      0.74      0.80      6650\n",
            "weighted avg       0.93      0.92      0.91      6650\n",
            "\n"
          ]
        }
      ]
    },
    {
      "cell_type": "markdown",
      "source": [
        "Overview of these results:\n",
        "\n",
        "- High Overall Accuracy: The model achieved an overall accuracy of approximately 91.9% in predicting whether jobs allow remote work, indicating strong performance in general classification tasks.\n",
        "\n",
        "- Excellent Precision for Remote Jobs: The model demonstrated a precision of 100% for predicting remote jobs (class 1), meaning virtually all jobs it classified as remote were indeed remote.\n",
        "\n",
        "- Varied Recall Performance: The recall was 100% for non-remote jobs (class 0), ensuring all non-remote jobs were identified. However, the recall for remote jobs (class 1) was lower at 47%, indicating the model missed over half of the actual remote opportunities.\n",
        "\n",
        "- Imbalanced Class Representation: The disparity in performance metrics between the two classes suggests an impact of class imbalance, with the model being more conservative in predicting jobs as remote.\n",
        "\n",
        "- Opportunity for Recall Improvement: The lower recall for remote jobs highlights an opportunity for improvement, suggesting a need for strategies that enhance the model's sensitivity to detecting remote jobs without sacrificing its high precision."
      ],
      "metadata": {
        "id": "t7m_5dqG86Rz"
      }
    },
    {
      "cell_type": "markdown",
      "source": [
        "## Let's work on model_5"
      ],
      "metadata": {
        "id": "shPP2tpc99oS"
      }
    },
    {
      "cell_type": "code",
      "source": [
        "from sklearn.feature_extraction.text import TfidfVectorizer\n",
        "\n",
        "# Initialize vectorizers\n",
        "title_vectorizer = TfidfVectorizer(max_features=1000, stop_words='english')\n",
        "description_vectorizer = TfidfVectorizer(max_features=1000, stop_words='english')\n",
        "\n",
        "# Fit and transform the text data\n",
        "title_tfidf = title_vectorizer.fit_transform(df_upsampled['title'])\n",
        "description_tfidf = description_vectorizer.fit_transform(df_upsampled['description'])"
      ],
      "metadata": {
        "id": "Jn4-PTsDmMoD"
      },
      "execution_count": 46,
      "outputs": []
    },
    {
      "cell_type": "code",
      "source": [
        "from sklearn.preprocessing import OneHotEncoder\n",
        "\n",
        "# Assuming 'location' is a categorical feature you want to include\n",
        "onehot_encoder = OneHotEncoder()\n",
        "location_encoded = onehot_encoder.fit_transform(df_upsampled[['location']])"
      ],
      "metadata": {
        "id": "ETGUeus3mZ4t"
      },
      "execution_count": 47,
      "outputs": []
    },
    {
      "cell_type": "code",
      "source": [
        "from scipy.sparse import hstack\n",
        "\n",
        "# Combine all features into a single sparse matrix\n",
        "X = hstack((title_tfidf, description_tfidf, location_encoded))"
      ],
      "metadata": {
        "id": "FQqpwocjmajG"
      },
      "execution_count": 48,
      "outputs": []
    },
    {
      "cell_type": "code",
      "source": [
        "from sklearn.utils import resample\n",
        "\n",
        "# Separate the majority and minority classes\n",
        "df_majority = df[df.is_remote==0]\n",
        "df_minority = df[df.is_remote==1]\n",
        "\n",
        "# Oversample minority class\n",
        "df_minority_upsampled = resample(df_minority,\n",
        "                                 replace=True,     # sample with replacement\n",
        "                                 n_samples=len(df_majority),    # to match majority class\n",
        "                                 random_state=42) # reproducible results\n",
        "\n",
        "# Combine majority class with upsampled minority class\n",
        "df_upsampled = pd.concat([df_majority, df_minority_upsampled])\n",
        "\n",
        "# Now use df_upsampled to split your data again\n",
        "X = hstack((title_tfidf, description_tfidf, location_encoded))\n",
        "y = df_upsampled['is_remote']\n",
        "X_train, X_test, y_train, y_test = train_test_split(X, y, test_size=0.2, random_state=42)"
      ],
      "metadata": {
        "id": "AyZD7Oixmc9I"
      },
      "execution_count": 50,
      "outputs": []
    },
    {
      "cell_type": "code",
      "source": [
        "y = df_upsampled['is_remote'].values  # Ensure 'y' is correctly set to your target variable\n",
        "\n",
        "X_train, X_test, y_train, y_test = train_test_split(X, y, test_size=0.2, random_state=42)"
      ],
      "metadata": {
        "id": "u4YdSHHcnKlr"
      },
      "execution_count": 51,
      "outputs": []
    },
    {
      "cell_type": "code",
      "source": [
        "from sklearn.ensemble import RandomForestClassifier\n",
        "\n",
        "# Initialize the RandomForestClassifier\n",
        "model = RandomForestClassifier(random_state=42)\n",
        "\n",
        "# Train the model on the balanced training set\n",
        "model.fit(X_train, y_train)"
      ],
      "metadata": {
        "colab": {
          "base_uri": "https://localhost:8080/",
          "height": 74
        },
        "id": "5iYkqu1PnMF8",
        "outputId": "544a7513-0877-40f8-8f93-18d073c523d2"
      },
      "execution_count": 52,
      "outputs": [
        {
          "output_type": "execute_result",
          "data": {
            "text/plain": [
              "RandomForestClassifier(random_state=42)"
            ],
            "text/html": [
              "<style>#sk-container-id-2 {color: black;background-color: white;}#sk-container-id-2 pre{padding: 0;}#sk-container-id-2 div.sk-toggleable {background-color: white;}#sk-container-id-2 label.sk-toggleable__label {cursor: pointer;display: block;width: 100%;margin-bottom: 0;padding: 0.3em;box-sizing: border-box;text-align: center;}#sk-container-id-2 label.sk-toggleable__label-arrow:before {content: \"▸\";float: left;margin-right: 0.25em;color: #696969;}#sk-container-id-2 label.sk-toggleable__label-arrow:hover:before {color: black;}#sk-container-id-2 div.sk-estimator:hover label.sk-toggleable__label-arrow:before {color: black;}#sk-container-id-2 div.sk-toggleable__content {max-height: 0;max-width: 0;overflow: hidden;text-align: left;background-color: #f0f8ff;}#sk-container-id-2 div.sk-toggleable__content pre {margin: 0.2em;color: black;border-radius: 0.25em;background-color: #f0f8ff;}#sk-container-id-2 input.sk-toggleable__control:checked~div.sk-toggleable__content {max-height: 200px;max-width: 100%;overflow: auto;}#sk-container-id-2 input.sk-toggleable__control:checked~label.sk-toggleable__label-arrow:before {content: \"▾\";}#sk-container-id-2 div.sk-estimator input.sk-toggleable__control:checked~label.sk-toggleable__label {background-color: #d4ebff;}#sk-container-id-2 div.sk-label input.sk-toggleable__control:checked~label.sk-toggleable__label {background-color: #d4ebff;}#sk-container-id-2 input.sk-hidden--visually {border: 0;clip: rect(1px 1px 1px 1px);clip: rect(1px, 1px, 1px, 1px);height: 1px;margin: -1px;overflow: hidden;padding: 0;position: absolute;width: 1px;}#sk-container-id-2 div.sk-estimator {font-family: monospace;background-color: #f0f8ff;border: 1px dotted black;border-radius: 0.25em;box-sizing: border-box;margin-bottom: 0.5em;}#sk-container-id-2 div.sk-estimator:hover {background-color: #d4ebff;}#sk-container-id-2 div.sk-parallel-item::after {content: \"\";width: 100%;border-bottom: 1px solid gray;flex-grow: 1;}#sk-container-id-2 div.sk-label:hover label.sk-toggleable__label {background-color: #d4ebff;}#sk-container-id-2 div.sk-serial::before {content: \"\";position: absolute;border-left: 1px solid gray;box-sizing: border-box;top: 0;bottom: 0;left: 50%;z-index: 0;}#sk-container-id-2 div.sk-serial {display: flex;flex-direction: column;align-items: center;background-color: white;padding-right: 0.2em;padding-left: 0.2em;position: relative;}#sk-container-id-2 div.sk-item {position: relative;z-index: 1;}#sk-container-id-2 div.sk-parallel {display: flex;align-items: stretch;justify-content: center;background-color: white;position: relative;}#sk-container-id-2 div.sk-item::before, #sk-container-id-2 div.sk-parallel-item::before {content: \"\";position: absolute;border-left: 1px solid gray;box-sizing: border-box;top: 0;bottom: 0;left: 50%;z-index: -1;}#sk-container-id-2 div.sk-parallel-item {display: flex;flex-direction: column;z-index: 1;position: relative;background-color: white;}#sk-container-id-2 div.sk-parallel-item:first-child::after {align-self: flex-end;width: 50%;}#sk-container-id-2 div.sk-parallel-item:last-child::after {align-self: flex-start;width: 50%;}#sk-container-id-2 div.sk-parallel-item:only-child::after {width: 0;}#sk-container-id-2 div.sk-dashed-wrapped {border: 1px dashed gray;margin: 0 0.4em 0.5em 0.4em;box-sizing: border-box;padding-bottom: 0.4em;background-color: white;}#sk-container-id-2 div.sk-label label {font-family: monospace;font-weight: bold;display: inline-block;line-height: 1.2em;}#sk-container-id-2 div.sk-label-container {text-align: center;}#sk-container-id-2 div.sk-container {/* jupyter's `normalize.less` sets `[hidden] { display: none; }` but bootstrap.min.css set `[hidden] { display: none !important; }` so we also need the `!important` here to be able to override the default hidden behavior on the sphinx rendered scikit-learn.org. See: https://github.com/scikit-learn/scikit-learn/issues/21755 */display: inline-block !important;position: relative;}#sk-container-id-2 div.sk-text-repr-fallback {display: none;}</style><div id=\"sk-container-id-2\" class=\"sk-top-container\"><div class=\"sk-text-repr-fallback\"><pre>RandomForestClassifier(random_state=42)</pre><b>In a Jupyter environment, please rerun this cell to show the HTML representation or trust the notebook. <br />On GitHub, the HTML representation is unable to render, please try loading this page with nbviewer.org.</b></div><div class=\"sk-container\" hidden><div class=\"sk-item\"><div class=\"sk-estimator sk-toggleable\"><input class=\"sk-toggleable__control sk-hidden--visually\" id=\"sk-estimator-id-2\" type=\"checkbox\" checked><label for=\"sk-estimator-id-2\" class=\"sk-toggleable__label sk-toggleable__label-arrow\">RandomForestClassifier</label><div class=\"sk-toggleable__content\"><pre>RandomForestClassifier(random_state=42)</pre></div></div></div></div></div>"
            ]
          },
          "metadata": {},
          "execution_count": 52
        }
      ]
    },
    {
      "cell_type": "code",
      "source": [
        "from sklearn.metrics import classification_report, accuracy_score\n",
        "\n",
        "# Make predictions on the test set\n",
        "y_pred = model.predict(X_test)\n",
        "\n",
        "# Calculate accuracy\n",
        "accuracy = accuracy_score(y_test, y_pred)\n",
        "print(f\"Accuracy: {accuracy:.4f}\")\n",
        "\n",
        "# More detailed performance analysis\n",
        "print(classification_report(y_test, y_pred))"
      ],
      "metadata": {
        "colab": {
          "base_uri": "https://localhost:8080/"
        },
        "id": "VxevZB-Pncm7",
        "outputId": "1978d574-58ee-4281-890d-c4794c6afd91"
      },
      "execution_count": 53,
      "outputs": [
        {
          "output_type": "stream",
          "name": "stdout",
          "text": [
            "Accuracy: 0.9968\n",
            "              precision    recall  f1-score   support\n",
            "\n",
            "           0       0.99      1.00      1.00      5602\n",
            "           1       1.00      0.99      1.00      5594\n",
            "\n",
            "    accuracy                           1.00     11196\n",
            "   macro avg       1.00      1.00      1.00     11196\n",
            "weighted avg       1.00      1.00      1.00     11196\n",
            "\n"
          ]
        }
      ]
    },
    {
      "cell_type": "markdown",
      "source": [
        "### This still seems extremely high, so not sure I trust this.\n",
        "\n",
        "Let's look at some random rows of data and see what the predictions are"
      ],
      "metadata": {
        "id": "g9BF23w7qsnS"
      }
    },
    {
      "cell_type": "code",
      "source": [
        "import numpy as np\n",
        "\n",
        "# Randomly select a row\n",
        "random_row = df.sample(n=1, random_state=np.random.randint(100))\n",
        "\n",
        "# Print the title, description, and location for verification\n",
        "print(f\"Title: {random_row['title'].values[0]}\")\n",
        "print(f\"Description: {random_row['description'].values[0]}\")\n",
        "print(f\"Location: {random_row['location'].values[0]}\\n\")"
      ],
      "metadata": {
        "colab": {
          "base_uri": "https://localhost:8080/"
        },
        "id": "LA6N4FbYq0TM",
        "outputId": "74b7a8c7-fccc-4007-ec02-523f4386c2c9"
      },
      "execution_count": 85,
      "outputs": [
        {
          "output_type": "stream",
          "name": "stdout",
          "text": [
            "Title: Service Desk Lead\n",
            "Description: Overview\n",
            "\n",
            "Our client is one of the nation’s top tier consulting firms and is featured in Fortune Magazine’s Top 10 list of the most admired companies in the world. They have a contract opportunity for a Service Desk Lead to perform O&M work on a Federal Project based in College Park, MD / Washington, DC. The work is primarily remote, but candidates must be local as onsite presence could be needed on occasion.\n",
            "\n",
            "Per our Federal Government Contract, candidates must be U.S. Citizens and be able to pass the client’s background check.\n",
            "\n",
            "Qualifications\n",
            "\n",
            " Bachelor’s degree in Computer Science or related field  4+ years of experience in IT Service Desk support, and 2 years in software development as a tester, business analyst, developer, or some other hands-on role  Proven track record of team management, including adequate training, delegation, and motivation  Strong analytical, problem-solving, drive customer communication during critical events and communication skills  Ability to work independently and in team settings, prioritizing workload and managing multiple tasks and assignments  Prior Federal government experience is a plus.  Per our Federal Government Contract, candidates must be U.S. Citizens and be able to pass the client’s background check \n",
            "\n",
            "4 Reasons To Join The Squires Group, Inc.\n",
            "\n",
            " Our Commitment to You - We offer competitive pay, multi-year projects, and a list of exciting clients. Work-Life Balance - We work hard; we work smart and have quality time for family and \"life.\" Golden Rule - We treat our consultants the way we want to be treated: with integrity, professionalism, and trust. We Care About You – We help you meet your career goals and continuously support your efforts in the field.\n",
            "\n",
            " Check out our Referral Program! \n",
            "\n",
            "The Squires Group will pay you for every qualified professional that you refer and we place. If you see a position posted by The Squires Group and know the perfect person for the job, please send us your referral. For more information, go to https://bit.ly/squiresreferral .\n",
            "\n",
            " The Squires Group, Inc. is an Equal Opportunity/Affirmative Action Employer.\n",
            "Location: College Park, MD\n",
            "\n"
          ]
        }
      ]
    },
    {
      "cell_type": "code",
      "source": [
        "# Vectorize 'title' and 'description' for the selected row\n",
        "title_tfidf_sample = title_vectorizer.transform(random_row['title'].fillna(''))\n",
        "description_tfidf_sample = description_vectorizer.transform(random_row['description'].fillna(''))\n",
        "\n",
        "if 'location' in random_row.columns:\n",
        "    location_encoded_sample = onehot_encoder.transform(random_row[['location']].fillna('unknown'))\n",
        "\n",
        "# Combine all features into a single feature set for the selected row\n",
        "X_sample = hstack((title_tfidf_sample, description_tfidf_sample, location_encoded_sample))"
      ],
      "metadata": {
        "id": "VldOMJwQq3LL"
      },
      "execution_count": 88,
      "outputs": []
    },
    {
      "cell_type": "code",
      "source": [
        "# Make a prediction\n",
        "y_pred_sample = model.predict(X_sample)\n",
        "\n",
        "# Output the prediction\n",
        "prediction = 'Remote' if y_pred_sample[0] == 1 else 'Not Remote'\n",
        "print(f\"The model predicts this job is: {prediction}\")"
      ],
      "metadata": {
        "colab": {
          "base_uri": "https://localhost:8080/"
        },
        "id": "lV7iNR2wrCtD",
        "outputId": "f5672e2f-6c99-4c20-ee5e-cef393ea9237"
      },
      "execution_count": 89,
      "outputs": [
        {
          "output_type": "stream",
          "name": "stdout",
          "text": [
            "The model predicts this job is: Remote\n"
          ]
        }
      ]
    },
    {
      "cell_type": "code",
      "source": [],
      "metadata": {
        "id": "WYoLeC3krG7a"
      },
      "execution_count": null,
      "outputs": []
    }
  ]
}